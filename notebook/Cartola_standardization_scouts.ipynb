{
  "nbformat": 4,
  "nbformat_minor": 0,
  "metadata": {
    "colab": {
      "name": "Cartola_standardization_scouts.ipynb",
      "version": "0.3.2",
      "provenance": [],
      "collapsed_sections": []
    },
    "kernelspec": {
      "name": "python3",
      "display_name": "Python 3"
    }
  },
  "cells": [
    {
      "cell_type": "code",
      "metadata": {
        "id": "JmEt2XtTp9kb",
        "colab_type": "code",
        "outputId": "8b6a886a-79f6-479a-8a4a-5528d14e234c",
        "colab": {
          "base_uri": "https://localhost:8080/",
          "height": 122
        }
      },
      "source": [
        "from google.colab import drive\n",
        "drive.mount('/content/gdrive')"
      ],
      "execution_count": 0,
      "outputs": [
        {
          "output_type": "stream",
          "text": [
            "Go to this URL in a browser: https://accounts.google.com/o/oauth2/auth?client_id=947318989803-6bn6qk8qdgf4n4g3pfee6491hc0brc4i.apps.googleusercontent.com&redirect_uri=urn%3Aietf%3Awg%3Aoauth%3A2.0%3Aoob&scope=email%20https%3A%2F%2Fwww.googleapis.com%2Fauth%2Fdocs.test%20https%3A%2F%2Fwww.googleapis.com%2Fauth%2Fdrive%20https%3A%2F%2Fwww.googleapis.com%2Fauth%2Fdrive.photos.readonly%20https%3A%2F%2Fwww.googleapis.com%2Fauth%2Fpeopleapi.readonly&response_type=code\n",
            "\n",
            "Enter your authorization code:\n",
            "··········\n",
            "Mounted at /content/gdrive\n"
          ],
          "name": "stdout"
        }
      ]
    },
    {
      "cell_type": "code",
      "metadata": {
        "id": "LaGiH58ZqQLY",
        "colab_type": "code",
        "colab": {}
      },
      "source": [
        "import pandas as pd"
      ],
      "execution_count": 0,
      "outputs": []
    },
    {
      "cell_type": "markdown",
      "metadata": {
        "id": "XaRPKISauUWh",
        "colab_type": "text"
      },
      "source": [
        ""
      ]
    },
    {
      "cell_type": "code",
      "metadata": {
        "id": "IJobgsHQqMw8",
        "colab_type": "code",
        "colab": {}
      },
      "source": [
        "team_dict = pd.read_csv('/content/gdrive/My Drive/Data Science/Cartola/times_ids.csv')"
      ],
      "execution_count": 0,
      "outputs": []
    },
    {
      "cell_type": "code",
      "metadata": {
        "id": "2stFvzW2Mo5B",
        "colab_type": "code",
        "colab": {}
      },
      "source": [
        "def get_round(round, year=2018):\n",
        "    data = pd.read_csv('/content/gdrive/My Drive/Data Science/Cartola/' + str(year) + '/rodada-' + str(round) + '.csv')\n",
        "    return data\n",
        "\n",
        "scouts_2018 = pd.DataFrame()\n",
        "all_rounds = []\n",
        "for i in range(1, 39):\n",
        "    all_rounds.append(get_round(i))\n",
        "    \n",
        "scouts_2018 = pd.concat(all_rounds, ignore_index=True, sort=False)"
      ],
      "execution_count": 0,
      "outputs": []
    },
    {
      "cell_type": "code",
      "metadata": {
        "id": "owUYk4tSqPI7",
        "colab_type": "code",
        "colab": {}
      },
      "source": [
        "dict_2014 = {'Atleta': 'atleta_id','Rodada':'rodada','Clube':'clube_id','Posicao':'atleta_posicao_id','Pontos':'pontuacao','PontosMedia':'pontuacao_media','Preco':'preco','PrecoVariacao':'preco_variacao'}\n",
        "dict_2015 = {\"Rodada\":'rodada',\"ClubeID\":'clube_id',\"AtletaID\":'atleta_id',\"Pontos\":'pontuacao',\"PontosMedia\":'pontuacao_media',\"Preco\":'preco',\"PrecoVariacao\":'preco_variacao'}\n",
        "dict_2016 = {\"Rodada\":'rodada',\"ClubeID\":'clube_id',\"AtletaID\":'atleta_id',\"Pontos\":'pontuacao',\"PontosMedia\":'pontuacao_media',\"Preco\":'preco',\"PrecoVariacao\":'preco_variacao'}\n",
        "dict_2017 = {'atletas.apelido':'atleta_apelido','atletas.atleta_id':'atleta_id','atletas.clube.id.full.name':'clube_nome','atletas.clube_id':'clube_id','atletas.media_num':'pontuacao_media','atletas.nome':'atleta_nome','atletas.pontos_num':'pontuacao','atletas.posicao_id':'posicao','atletas.preco_num':'preco','Rodada':'rodada','atletas.variacao_num':'preco_variacao'}\n",
        "dict_2018 = {\"atletas.nome\":'atleta_nome',\"atletas.slug\":'atleta_slug',\"atletas.apelido\":'atleta_apelido',\"atletas.atleta_id\":'atleta_id',\"atletas.rodada_id\":'rodada',\"atletas.clube_id\":'clube_id',\"atletas.posicao_id\":'posicao',\"atletas.pontos_num\":'pontuacao',\"atletas.preco_num\":'preco',\"atletas.variacao_num\":'preco_variacao',\"atletas.media_num\":'pontuacao_media',\"atletas.clube.id.full.name\":'clube_nome'}"
      ],
      "execution_count": 0,
      "outputs": []
    },
    {
      "cell_type": "code",
      "metadata": {
        "id": "tfA98uUZyxmR",
        "colab_type": "code",
        "colab": {}
      },
      "source": [
        "scouts_2014 = pd.read_csv('/content/gdrive/My Drive/Data Science/Cartola/2014/2014_scouts_raw.csv')\n",
        "scouts_2015 = pd.read_csv('/content/gdrive/My Drive/Data Science/Cartola/2015/2015_scouts_raw.csv')\n",
        "scouts_2016 = pd.read_csv('/content/gdrive/My Drive/Data Science/Cartola/2016/2016_scouts_raw.csv')\n",
        "scouts_2017 = pd.read_csv('/content/gdrive/My Drive/Data Science/Cartola/2017/2017_scouts_raw.csv')"
      ],
      "execution_count": 0,
      "outputs": []
    },
    {
      "cell_type": "code",
      "metadata": {
        "id": "VsYpgHMx5AEL",
        "colab_type": "code",
        "colab": {}
      },
      "source": [
        "players_2016 = pd.read_csv('/content/gdrive/My Drive/Data Science/Cartola/2016/2016_jogadores.csv')\n",
        "players_2015 = pd.read_csv('/content/gdrive/My Drive/Data Science/Cartola/2015/2015_jogadores.csv')\n",
        "players_2014 = pd.read_csv('/content/gdrive/My Drive/Data Science/Cartola/2014/2014_jogadores.csv')\n",
        "positions = pd.read_csv('/content/gdrive/My Drive/Data Science/Cartola/posicoes_ids.csv')\n",
        "teams_2017 = pd.read_csv('/content/gdrive/My Drive/Data Science/Cartola/2017/2017_times.csv', sep=';')"
      ],
      "execution_count": 0,
      "outputs": []
    },
    {
      "cell_type": "code",
      "metadata": {
        "id": "2eIRCHf7zNgB",
        "colab_type": "code",
        "colab": {}
      },
      "source": [
        "scouts_2014.rename(columns=dict_2014, inplace=True)\n",
        "scouts_2015.rename(columns=dict_2015, inplace=True)\n",
        "scouts_2016.rename(columns=dict_2016, inplace=True)\n",
        "scouts_2017.rename(columns=dict_2017, inplace=True)\n",
        "scouts_2018.rename(columns=dict_2018, inplace=True)"
      ],
      "execution_count": 0,
      "outputs": []
    },
    {
      "cell_type": "code",
      "metadata": {
        "id": "6RwwfCTg07jQ",
        "colab_type": "code",
        "colab": {}
      },
      "source": [
        "def position_abbr_2016(id):\n",
        "  pos_id = players_2016[players_2016['ID'] == id]['PosicaoID'].values[0]\n",
        "  pos = positions[positions['Cod'] == pos_id]['abbr'].values[0]\n",
        "  \n",
        "  return pos\n",
        "\n",
        "\n",
        "def position_abbr_2015(id):\n",
        "  pos_id = players_2015[players_2015['ID'] == id]['PosicaoID'].values[0]\n",
        "  pos = positions[positions['Cod'] == pos_id]['abbr'].values[0]\n",
        "  \n",
        "  return pos\n",
        "\n",
        "\n",
        "def position_abbr_2014(id):\n",
        "  pos_id = players_2014[players_2014['ID'] == id]['PosicaoID'].values[0]\n",
        "  pos = positions[positions['Cod'] == pos_id]['abbr'].values[0]\n",
        "  \n",
        "  return pos\n",
        "\n",
        "\n",
        "def clube_id_2017(name):\n",
        "  id = teams_2017[teams_2017['Nome'] == name]['ID'].values[0]\n",
        "  \n",
        "  return id\n",
        "\n",
        "\n",
        "def clube_id_2014(atleta_id):\n",
        "  id = players_2014[players_2014['ID'] == atleta_id]['ClubeID'].values[0]\n",
        "  \n",
        "  return id\n",
        "\n",
        "\n",
        "def clube_id_2016(atleta_id):\n",
        "  id = players_2016[players_2016['ID'] == atleta_id]['ClubeID'].values[0]\n",
        "  \n",
        "  return id\n",
        "\n",
        "\n",
        "def clube_id_2018(name):\n",
        "  id = team_dict[team_dict['nome.cartola'] == name]['id'].values[0]\n",
        "  \n",
        "  return id\n",
        "\n",
        "\n",
        "def played_match(row):\n",
        "  score = row['pontuacao']\n",
        "  variation = row['preco_variacao']\n",
        "  \n",
        "  if 0 == score == variation:\n",
        "    return False\n",
        "  \n",
        "  return True\n",
        "\n",
        "\n",
        "def fill_cumulative_data(data, cols):\n",
        "  \n",
        "  data = data.sort_values(by=['rodada'])\n",
        "  \n",
        "  for index, row in data.iterrows():\n",
        "    for column in cols:\n",
        "      round = row['rodada']\n",
        "      player = row['atleta_id']\n",
        "\n",
        "      if round > 1:\n",
        "        last = data[(data['atleta_id'] == player) & (data['rodada'] == round-1)]\n",
        "\n",
        "        if len(last[column].values) > 0:\n",
        "          n = row[column]\n",
        "          if n != n:\n",
        "            n = 0\n",
        "          m = last[column].values[0]\n",
        "          data.loc[index, column] = n + m\n",
        "  \n",
        "  return data"
      ],
      "execution_count": 0,
      "outputs": []
    },
    {
      "cell_type": "code",
      "metadata": {
        "id": "NadbSGsN6yap",
        "colab_type": "code",
        "colab": {}
      },
      "source": [
        "scouts_2015['posicao'] = scouts_2015.apply(lambda  row: position_abbr_2015(row['atleta_id']), axis=1)\n",
        "scouts_2016['posicao'] = scouts_2016.apply(lambda  row: position_abbr_2016(row['atleta_id']), axis=1)\n",
        "scouts_2014['posicao'] = scouts_2014.apply(lambda  row: position_abbr_2014(row['atleta_id']), axis=1)"
      ],
      "execution_count": 0,
      "outputs": []
    },
    {
      "cell_type": "code",
      "metadata": {
        "id": "DdMSXraG9NfG",
        "colab_type": "code",
        "colab": {}
      },
      "source": [
        "# Remove jogadores que não possuem o campo do nome do time \n",
        "scouts_2017 = scouts_2017.drop(scouts_2017[scouts_2017['clube_nome'] != scouts_2017['clube_nome']].index)\n",
        "scouts_2017['clube_id'] = scouts_2017.apply(lambda  row: clube_id_2017(row['clube_nome']), axis=1)"
      ],
      "execution_count": 0,
      "outputs": []
    },
    {
      "cell_type": "code",
      "metadata": {
        "id": "3duc3GYpBlbF",
        "colab_type": "code",
        "colab": {}
      },
      "source": [
        "scouts_2014['clube_id'] = scouts_2014.apply(lambda  row: clube_id_2014(row['atleta_id']), axis=1)\n",
        "scouts_2014.loc[scouts_2014['clube_id'] == 288, 'clube_id'] = 206\n",
        "\n",
        "scouts_2015.loc[scouts_2015['clube_id'] == 317, 'clube_id'] = 215\n",
        "\n",
        "scouts_2016['clube_id'] = scouts_2016.apply(lambda  row: clube_id_2016(row['atleta_id']), axis=1)\n",
        "scouts_2018['clube_id'] = scouts_2018.apply(lambda  row: clube_id_2018(row['clube_nome']), axis=1)"
      ],
      "execution_count": 0,
      "outputs": []
    },
    {
      "cell_type": "code",
      "metadata": {
        "id": "jUFA9zVIFENO",
        "colab_type": "code",
        "colab": {}
      },
      "source": [
        "columns = ['rodada', 'atleta_id', 'clube_id', 'pontuacao', 'pontuacao_media', 'preco', 'preco_variacao', 'posicao', 'FS', 'PE', 'A', 'FT', 'FD', 'FF', 'G', 'I', 'PP', 'RB', 'FC', 'GC', 'CA', 'CV', 'SG', 'DD', 'DP', 'GS']\n",
        "scouts_2014 = scouts_2014[columns]\n",
        "scouts_2015 = scouts_2015[columns]\n",
        "scouts_2016 = scouts_2016[columns]\n",
        "scouts_2017 = scouts_2017[columns]\n",
        "scouts_2018 = scouts_2018[columns]"
      ],
      "execution_count": 0,
      "outputs": []
    },
    {
      "cell_type": "code",
      "metadata": {
        "id": "ThEYOmUau5d4",
        "colab_type": "code",
        "colab": {}
      },
      "source": [
        "scouts_2014['participou'] = scouts_2014.apply(lambda  row: played_match(row), axis=1)\n",
        "scouts_2015['participou'] = scouts_2015.apply(lambda  row: played_match(row), axis=1)\n",
        "scouts_2016['participou'] = scouts_2016.apply(lambda  row: played_match(row), axis=1)\n",
        "scouts_2017['participou'] = scouts_2017.apply(lambda  row: played_match(row), axis=1)\n",
        "scouts_2018['participou'] = scouts_2018.apply(lambda  row: played_match(row), axis=1)"
      ],
      "execution_count": 0,
      "outputs": []
    },
    {
      "cell_type": "code",
      "metadata": {
        "id": "MMwc6dPd5tEa",
        "colab_type": "code",
        "colab": {}
      },
      "source": [
        "columns = ['FS', 'PE', 'A', 'FT', 'FD', 'FF', 'G', 'I', 'PP', 'RB', 'FC', 'GC', 'CA', 'CV', 'SG', 'DD', 'DP', 'GS']\n",
        "\n",
        "scouts_2014 = fill_cumulative_data(scouts_2014, columns)\n",
        "scouts_2016 = fill_cumulative_data(scouts_2016, columns)"
      ],
      "execution_count": 0,
      "outputs": []
    },
    {
      "cell_type": "code",
      "metadata": {
        "id": "6Dq6PMN8Vd15",
        "colab_type": "code",
        "colab": {}
      },
      "source": [
        "scouts_2014.to_csv('/content/gdrive/My Drive/Data Science/Cartola/Standardized/scouts_2014.csv', index=False)\n",
        "scouts_2015.to_csv('/content/gdrive/My Drive/Data Science/Cartola/Standardized/scouts_2015.csv', index=False)\n",
        "scouts_2016.to_csv('/content/gdrive/My Drive/Data Science/Cartola/Standardized/scouts_2016.csv', index=False)\n",
        "scouts_2017.to_csv('/content/gdrive/My Drive/Data Science/Cartola/Standardized/scouts_2017.csv', index=False)\n",
        "scouts_2018.to_csv('/content/gdrive/My Drive/Data Science/Cartola/Standardized/scouts_2018.csv', index=False)"
      ],
      "execution_count": 0,
      "outputs": []
    }
  ]
}
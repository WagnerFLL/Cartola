{
  "nbformat": 4,
  "nbformat_minor": 0,
  "metadata": {
    "colab": {
      "name": "Cartola_standardization_scouts.ipynb",
      "version": "0.3.2",
      "provenance": [],
      "collapsed_sections": []
    },
    "kernelspec": {
      "name": "python3",
      "display_name": "Python 3"
    }
  },
  "cells": [
    {
      "cell_type": "markdown",
      "metadata": {
        "id": "k7xs187I18fh",
        "colab_type": "text"
      },
      "source": [
        "#CartolaFC\n",
        "\n",
        "O CartolaFC é o futebol de fantasia mais popular do Brasil. Antes de cada rodada do Campeonato Brasileiro (1ª divisão), os jogadores escolhem quais atletas querem para suas equipes e marcam pontos com base em suas performances na vida real. Ativo deste 2014, o jogo vem em crescente sucesso, tendo pouco mais de [8,5 milhões de contas criadas no ano de 2018](https://www.gazetadopovo.com.br/vozes/cartoleiros/cartola-milhoes-globo/). \n",
        "\n",
        "No game, os jogadores de cada clube da competição nacional podem ser escalados pelos usuários. Cada jogador receberá uma nota de acordo com seu rendimento em campo seguindo algumas regras de pontuação que podem ser consultadas [aqui](https://docs.google.com/spreadsheets/d/1dEihc-1BTNudkgDnANfztk70D6ga8V6xe2ji-TgI90k/edit?usp=sharing).\n"
      ]
    },
    {
      "cell_type": "markdown",
      "metadata": {
        "id": "x-ZmDitZ3M-C",
        "colab_type": "text"
      },
      "source": [
        "## Dados\n",
        "Os dados dos anos de 2014 até 2017 foram disponibilizados no [kaggle](https://www.kaggle.com/schiller/cartolafc).\n",
        "Dados do ano de 2018 e outros dados complementares, foram coletados do repositório [caRtola](https://github.com/henriquepgomide/caRtola/tree/master/data).\n",
        "\n",
        "\n",
        "### Inconsistências\n",
        "\n",
        "Como os dados são provenientes da API oficial do game, e esta sofreu alterações na forma em que disponibiliza os dados ao longo destes anos, então há inconsistências nos dados que impede o uso do dataset completo de forma fácil. Algumas dessas inconsistências são:\n",
        "\n",
        "**2014:**\n",
        "* Os identificadores das colunas são diferentes das tabelas dos outros anos.\n",
        "* Alguns jogadores possui valores inconsistentes no campo de id do clube.\n",
        "\n",
        "**2015:**\n",
        "* Os identificadores das colunas são diferentes das tabelas dos outros anos.\n",
        "* Não há informações sobre a posição do jogador.\n",
        "* Não há registros da última rodada do campeonato.\n",
        "* Os scouts são cumulativos, ou seja, os scouts dos jogadores vão sendo somados a cada rodada.\n",
        "* Não fornece nenhum campo que identifique se o jogador participou ou não de uma rodada.\n",
        "\n",
        "**2016:**\n",
        "* Não há informações sobre a posição do jogador.\n",
        "\n",
        "**2017 e 2018:**\n",
        "* Ao contrário do que é feito nas anteriores, apresenta o nome do clube e sua abreviação, e não o identificador.\n",
        "* Não fornece nenhum campo que identifique se o jogador participou ou não de uma rodada. Apenas seu status no mercado.\n",
        "* Os scouts são cumulativos, ou seja, os scouts dos jogadores vão sendo somados a cada rodada.\n",
        "* Os dados de 2018 estão separados em arquivos diferentes para cada rodada.\n",
        "\n",
        "**Gerais:**\n",
        "* ID de alguns clubes são diferentes em anos diferentes.\n",
        "* Algumas tabelas contém valores nulos em campos importantes, como nome ou identificador do clube.\n",
        "\n",
        "### Objetivo\n",
        "O objetivo é padronizar os dados, eliminando as inconsistências citadas e resolver problemas de compatibilidade. E ainda, através desses dados extrair informações sobre as equipes do campeonato brasileiro para cada rodada de cada edição. "
      ]
    },
    {
      "cell_type": "code",
      "metadata": {
        "id": "LaGiH58ZqQLY",
        "colab_type": "code",
        "colab": {}
      },
      "source": [
        "import pandas as pd"
      ],
      "execution_count": 0,
      "outputs": []
    },
    {
      "cell_type": "code",
      "metadata": {
        "id": "IJobgsHQqMw8",
        "colab_type": "code",
        "colab": {}
      },
      "source": [
        "team_dict = pd.read_csv('/content/gdrive/My Drive/Data Science/Cartola/times_ids.csv')"
      ],
      "execution_count": 0,
      "outputs": []
    },
    {
      "cell_type": "code",
      "metadata": {
        "id": "2stFvzW2Mo5B",
        "colab_type": "code",
        "colab": {}
      },
      "source": [
        "def get_round(round, year=2018):\n",
        "    data = pd.read_csv('/content/gdrive/My Drive/Data Science/Cartola/' + str(year) + '/rodada-' + str(round) + '.csv')\n",
        "    return data\n",
        "\n",
        "scouts_2018 = pd.DataFrame()\n",
        "all_rounds = []\n",
        "for i in range(1, 39):\n",
        "    all_rounds.append(get_round(i))\n",
        "    \n",
        "scouts_2018 = pd.concat(all_rounds, ignore_index=True, sort=False)"
      ],
      "execution_count": 0,
      "outputs": []
    },
    {
      "cell_type": "code",
      "metadata": {
        "id": "tfA98uUZyxmR",
        "colab_type": "code",
        "colab": {}
      },
      "source": [
        "scouts_2014 = pd.read_csv('/content/gdrive/My Drive/Data Science/Cartola/2014/2014_scouts_raw.csv')\n",
        "scouts_2015 = pd.read_csv('/content/gdrive/My Drive/Data Science/Cartola/2015/2015_scouts_raw.csv')\n",
        "scouts_2016 = pd.read_csv('/content/gdrive/My Drive/Data Science/Cartola/2016/2016_scouts_raw.csv')\n",
        "scouts_2017 = pd.read_csv('/content/gdrive/My Drive/Data Science/Cartola/2017/2017_scouts_raw.csv')"
      ],
      "execution_count": 0,
      "outputs": []
    },
    {
      "cell_type": "code",
      "metadata": {
        "id": "VsYpgHMx5AEL",
        "colab_type": "code",
        "colab": {}
      },
      "source": [
        "players_2016 = pd.read_csv('/content/gdrive/My Drive/Data Science/Cartola/2016/2016_jogadores.csv')\n",
        "players_2015 = pd.read_csv('/content/gdrive/My Drive/Data Science/Cartola/2015/2015_jogadores.csv')\n",
        "players_2014 = pd.read_csv('/content/gdrive/My Drive/Data Science/Cartola/2014/2014_jogadores.csv')\n",
        "positions = pd.read_csv('/content/gdrive/My Drive/Data Science/Cartola/posicoes_ids.csv')\n",
        "teams_2017 = pd.read_csv('/content/gdrive/My Drive/Data Science/Cartola/2017/2017_times.csv', sep=';')"
      ],
      "execution_count": 0,
      "outputs": []
    },
    {
      "cell_type": "markdown",
      "metadata": {
        "id": "Ewr-JkXCLdWj",
        "colab_type": "text"
      },
      "source": [
        "\n",
        "Para facilitar a manipulação do dados, incialmente é feita uma padronização dos identifcadores de cada coluna."
      ]
    },
    {
      "cell_type": "code",
      "metadata": {
        "id": "owUYk4tSqPI7",
        "colab_type": "code",
        "colab": {}
      },
      "source": [
        "dict_2014 = {'Atleta': 'atleta_id','Rodada':'rodada','Clube':'clube_id',\n",
        "             'Posicao':'atleta_posicao_id','Pontos':'pontuacao',\n",
        "             'PontosMedia':'pontuacao_media','Preco':'preco','PrecoVariacao':'preco_variacao'}\n",
        "\n",
        "dict_2015 = {\"Rodada\":'rodada',\"ClubeID\":'clube_id',\"AtletaID\":'atleta_id',\"Pontos\":'pontuacao',\n",
        "             \"PontosMedia\":'pontuacao_media',\"Preco\":'preco',\"PrecoVariacao\":'preco_variacao'}\n",
        "\n",
        "dict_2016 = {\"Rodada\":'rodada',\"ClubeID\":'clube_id',\"AtletaID\":'atleta_id',\"Pontos\":'pontuacao',\n",
        "             \"PontosMedia\":'pontuacao_media',\"Preco\":'preco',\"PrecoVariacao\":'preco_variacao'}\n",
        "\n",
        "dict_2017 = {'atletas.apelido':'atleta_apelido','atletas.atleta_id':'atleta_id',\n",
        "             'atletas.clube.id.full.name':'clube_nome','atletas.clube_id':'clube_id',\n",
        "             'atletas.media_num':'pontuacao_media','atletas.nome':'atleta_nome',\n",
        "             'atletas.pontos_num':'pontuacao','atletas.posicao_id':'posicao',\n",
        "             'atletas.preco_num':'preco','Rodada':'rodada','atletas.variacao_num':'preco_variacao'}\n",
        "\n",
        "dict_2018 = {\"atletas.nome\":'atleta_nome',\"atletas.slug\":'atleta_slug',\"atletas.apelido\":'atleta_apelido',\n",
        "             \"atletas.atleta_id\":'atleta_id',\"atletas.rodada_id\":'rodada',\"atletas.clube_id\":'clube_id',\n",
        "             \"atletas.posicao_id\":'posicao',\"atletas.pontos_num\":'pontuacao',\"atletas.preco_num\":'preco',\n",
        "             \"atletas.variacao_num\":'preco_variacao',\"atletas.media_num\":'pontuacao_media',\n",
        "             \"atletas.clube.id.full.name\":'clube_nome'}"
      ],
      "execution_count": 0,
      "outputs": []
    },
    {
      "cell_type": "code",
      "metadata": {
        "id": "2eIRCHf7zNgB",
        "colab_type": "code",
        "colab": {}
      },
      "source": [
        "scouts_2014.rename(columns=dict_2014, inplace=True)\n",
        "scouts_2015.rename(columns=dict_2015, inplace=True)\n",
        "scouts_2016.rename(columns=dict_2016, inplace=True)\n",
        "scouts_2017.rename(columns=dict_2017, inplace=True)\n",
        "scouts_2018.rename(columns=dict_2018, inplace=True)"
      ],
      "execution_count": 0,
      "outputs": []
    },
    {
      "cell_type": "markdown",
      "metadata": {
        "id": "nns4hAOiMAbn",
        "colab_type": "text"
      },
      "source": [
        "Como os dados de 2014, 2015 e 2016 não contam com a abreviação da posição do jogador, é necessário buscar em outra tabela através do id fornecido."
      ]
    },
    {
      "cell_type": "code",
      "metadata": {
        "id": "V9YChO-nMF08",
        "colab_type": "code",
        "colab": {}
      },
      "source": [
        "def position_abbr_2015(id):\n",
        "  pos_id = players_2015[players_2015['ID'] == id]['PosicaoID'].values[0]\n",
        "  pos = positions[positions['Cod'] == pos_id]['abbr'].values[0]\n",
        "  \n",
        "  return pos\n",
        "\n",
        "\n",
        "def position_abbr_2016(id):\n",
        "  pos_id = players_2016[players_2016['ID'] == id]['PosicaoID'].values[0]\n",
        "  pos = positions[positions['Cod'] == pos_id]['abbr'].values[0]\n",
        "  \n",
        "  return pos\n",
        "\n",
        "\n",
        "def position_abbr_2014(id):\n",
        "  pos_id = players_2014[players_2014['ID'] == id]['PosicaoID'].values[0]\n",
        "  pos = positions[positions['Cod'] == pos_id]['abbr'].values[0]\n",
        "  \n",
        "  return pos"
      ],
      "execution_count": 0,
      "outputs": []
    },
    {
      "cell_type": "code",
      "metadata": {
        "id": "YX7-iR-_MGT8",
        "colab_type": "code",
        "colab": {}
      },
      "source": [
        "scouts_2014['posicao'] = scouts_2014.apply(lambda  row: position_abbr_2014(row['atleta_id']), axis=1)\n",
        "scouts_2015['posicao'] = scouts_2015.apply(lambda  row: position_abbr_2015(row['atleta_id']), axis=1)\n",
        "scouts_2016['posicao'] = scouts_2016.apply(lambda  row: position_abbr_2016(row['atleta_id']), axis=1)"
      ],
      "execution_count": 0,
      "outputs": []
    },
    {
      "cell_type": "markdown",
      "metadata": {
        "id": "RhRICG2uMIYa",
        "colab_type": "text"
      },
      "source": [
        "Adicionando os id's dos clubes.\n"
      ]
    },
    {
      "cell_type": "code",
      "metadata": {
        "id": "hxn648jbOXb6",
        "colab_type": "code",
        "colab": {}
      },
      "source": [
        "def clube_id_2017(name):\n",
        "  id = teams_2017[teams_2017['Nome'] == name]['ID'].values[0]\n",
        "  \n",
        "  return id\n",
        "\n",
        "\n",
        "def clube_id_2014(atleta_id):\n",
        "  id = players_2014[players_2014['ID'] == atleta_id]['ClubeID'].values[0]\n",
        "  \n",
        "  return id\n",
        "\n",
        "\n",
        "def clube_id_2016(atleta_id):\n",
        "  id = players_2016[players_2016['ID'] == atleta_id]['ClubeID'].values[0]\n",
        "  \n",
        "  return id\n",
        "\n",
        "\n",
        "def clube_id_2018(name):\n",
        "  id = team_dict[team_dict['nome.cartola'] == name]['id'].values[0]\n",
        "  \n",
        "  return id"
      ],
      "execution_count": 0,
      "outputs": []
    },
    {
      "cell_type": "code",
      "metadata": {
        "id": "CvcF691GOXe7",
        "colab_type": "code",
        "colab": {}
      },
      "source": [
        "# Remove jogadores que não possuem o campo do nome do time \n",
        "scouts_2017 = scouts_2017.drop(scouts_2017[scouts_2017['clube_nome'] != scouts_2017['clube_nome']].index)\n",
        "scouts_2017['clube_id'] = scouts_2017.apply(lambda  row: clube_id_2017(row['clube_nome']), axis=1)\n",
        "\n",
        "scouts_2014['clube_id'] = scouts_2014.apply(lambda  row: clube_id_2014(row['atleta_id']), axis=1)\n",
        "\n",
        "# Altera o antigo id de clubes que tiveram o identificador alterado na plataforma\n",
        "scouts_2014.loc[scouts_2014['clube_id'] == 288, 'clube_id'] = 206\n",
        "scouts_2015.loc[scouts_2015['clube_id'] == 317, 'clube_id'] = 215\n",
        "\n",
        "scouts_2016['clube_id'] = scouts_2016.apply(lambda  row: clube_id_2016(row['atleta_id']), axis=1)\n",
        "scouts_2018['clube_id'] = scouts_2018.apply(lambda  row: clube_id_2018(row['atletas.clube.id.full.name']), axis=1)"
      ],
      "execution_count": 0,
      "outputs": []
    },
    {
      "cell_type": "markdown",
      "metadata": {
        "id": "Yh0gcU0fQV_v",
        "colab_type": "text"
      },
      "source": [
        "Padroniza a ordem das colunas e remove colunas desnecessárias."
      ]
    },
    {
      "cell_type": "code",
      "metadata": {
        "id": "xTP2CNlpQVPc",
        "colab_type": "code",
        "colab": {}
      },
      "source": [
        "columns = ['rodada', 'atleta_id', 'clube_id', 'pontuacao', 'pontuacao_media', \n",
        "           'preco', 'preco_variacao', 'posicao', 'FS', 'PE', 'A', 'FT', 'FD', 'FF', \n",
        "           'G', 'I', 'PP', 'RB', 'FC', 'GC', 'CA', 'CV', 'SG', 'DD', 'DP', 'GS']\n",
        "\n",
        "scouts_2014 = scouts_2014[columns]\n",
        "scouts_2015 = scouts_2015[columns]\n",
        "scouts_2016 = scouts_2016[columns]\n",
        "scouts_2017 = scouts_2017[columns]\n",
        "scouts_2018 = scouts_2018[columns]"
      ],
      "execution_count": 0,
      "outputs": []
    },
    {
      "cell_type": "markdown",
      "metadata": {
        "id": "T05kdXRvQLks",
        "colab_type": "text"
      },
      "source": [
        "Adiciona a informação sobre a participação do jogador em cada rodada."
      ]
    },
    {
      "cell_type": "code",
      "metadata": {
        "id": "uFdfVcuRQMA9",
        "colab_type": "code",
        "colab": {}
      },
      "source": [
        "def played_match(row):\n",
        "  score = row['pontuacao']\n",
        "  variation = row['preco_variacao']\n",
        "  \n",
        "  if 0 == score == variation:\n",
        "    return False\n",
        "  \n",
        "  return True"
      ],
      "execution_count": 0,
      "outputs": []
    },
    {
      "cell_type": "code",
      "metadata": {
        "id": "7B0McNImQMD6",
        "colab_type": "code",
        "colab": {}
      },
      "source": [
        "scouts_2014['participou'] = scouts_2014.apply(lambda  row: played_match(row), axis=1)\n",
        "scouts_2015['participou'] = scouts_2015.apply(lambda  row: played_match(row), axis=1)\n",
        "scouts_2016['participou'] = scouts_2016.apply(lambda  row: played_match(row), axis=1)\n",
        "scouts_2017['participou'] = scouts_2017.apply(lambda  row: played_match(row), axis=1)\n",
        "scouts_2018['participou'] = scouts_2018.apply(lambda  row: played_match(row), axis=1)"
      ],
      "execution_count": 0,
      "outputs": []
    },
    {
      "cell_type": "markdown",
      "metadata": {
        "id": "s2gwpVfGQ6HC",
        "colab_type": "text"
      },
      "source": [
        "Tornando cumulativos os dados dos scouts de 2014 e 2016."
      ]
    },
    {
      "cell_type": "code",
      "metadata": {
        "id": "l27HLDbY5ez9",
        "colab_type": "code",
        "colab": {}
      },
      "source": [
        "def fill_cumulative_data(data, cols):\n",
        "  \n",
        "  data = data.sort_values(by=['rodada'])\n",
        "  \n",
        "  for index, row in data.iterrows():\n",
        "    for column in cols:\n",
        "      round = row['rodada']\n",
        "      player = row['atleta_id']\n",
        "\n",
        "      if round > 1:\n",
        "        last = data[(data['atleta_id'] == player) & (data['rodada'] == round-1)]\n",
        "\n",
        "        if len(last[column].values) > 0:\n",
        "          n = row[column]\n",
        "          if n != n:\n",
        "            n = 0\n",
        "          m = last[column].values[0]\n",
        "          data.loc[index, column] = n + m\n",
        "  \n",
        "  return data"
      ],
      "execution_count": 0,
      "outputs": []
    },
    {
      "cell_type": "code",
      "metadata": {
        "id": "93KAmrbM58uv",
        "colab_type": "code",
        "colab": {}
      },
      "source": [
        "columns = ['FS', 'PE', 'A', 'FT', 'FD', 'FF', 'G', 'I', 'PP', 'RB', 'FC', 'GC', \n",
        "           'CA', 'CV', 'SG', 'DD', 'DP', 'GS']\n",
        "\n",
        "scouts_2014 = fill_cumulative_data(scouts_2014, columns)\n",
        "scouts_2016 = fill_cumulative_data(scouts_2016, columns)"
      ],
      "execution_count": 0,
      "outputs": []
    },
    {
      "cell_type": "markdown",
      "metadata": {
        "id": "pv0CbFK3U8cC",
        "colab_type": "text"
      },
      "source": [
        "## Extração de dados das equipes\n",
        "Para esse processo, é necessário também as informações sobre os resultados das partidas de cada edição do campeonato, e também uma tabela com as identificações dos times. \n",
        "Como os dados dos scouts já estão todos padronizados, os procedimentos a seguir podem ser feitos para todos eles. Para ficar mais compreensível farei o processo apenas com os dados de 2014."
      ]
    },
    {
      "cell_type": "code",
      "metadata": {
        "id": "DmUWrfwcU7fi",
        "colab_type": "code",
        "colab": {}
      },
      "source": [
        "year = '2014'\n",
        "\n",
        "team_dict = pd.read_csv('/content/gdrive/My Drive/Data Science/Cartola/times_ids.csv')\n",
        "matchs = pd.read_csv('/content/gdrive/My Drive/Data Science/Cartola/'+year+'/'+year+'_partidas.csv')\n",
        "# scouts = pd.read_csv('/content/gdrive/My Drive/Data Science/Cartola/Standardized/scouts_'+year+'.csv')\n",
        "\n",
        "scouts = scouts_2014"
      ],
      "execution_count": 0,
      "outputs": []
    },
    {
      "cell_type": "markdown",
      "metadata": {
        "id": "yYhxSig_XFqL",
        "colab_type": "text"
      },
      "source": [
        "Como a tabela de resultados das partidas identifica os times pelos nomes e no scout pelo id, para facilitar é preciso substituir o nome pelo id do clube."
      ]
    },
    {
      "cell_type": "code",
      "metadata": {
        "id": "8IYzd0vJU7jQ",
        "colab_type": "code",
        "colab": {}
      },
      "source": [
        "def replace_slug_by_id(slug):\n",
        "  name = team_dict[team_dict['nome.cbf'] == slug]['id'].values\n",
        "  return name[0]"
      ],
      "execution_count": 0,
      "outputs": []
    },
    {
      "cell_type": "code",
      "metadata": {
        "id": "gNVvMVw9U7lX",
        "colab_type": "code",
        "colab": {}
      },
      "source": [
        "matchs['home_team'] = matchs.apply(lambda  row: replace_slug_by_id(row['home_team']), axis=1)\n",
        "matchs['away_team'] = matchs.apply(lambda  row: replace_slug_by_id(row['away_team']), axis=1)"
      ],
      "execution_count": 0,
      "outputs": []
    },
    {
      "cell_type": "markdown",
      "metadata": {
        "id": "R1tuxwYcX4TD",
        "colab_type": "text"
      },
      "source": [
        "Criando o dataframe que conterá as informações dos 20 times, em todas as 38 rodadas."
      ]
    },
    {
      "cell_type": "code",
      "metadata": {
        "id": "B12TPc-RU7n5",
        "colab_type": "code",
        "colab": {}
      },
      "source": [
        "team_ids = matchs['home_team'].unique()\n",
        "tr = pd.DataFrame({'team': [], 'round': []})\n",
        "\n",
        "for i in range(1, 39):\n",
        "    df = pd.DataFrame({'team': team_ids,\n",
        "                       'round': [i] * 20})\n",
        "    tr = tr.append(df, sort=False)\n",
        "\n",
        "    \n",
        "# sem dados para a última rodada do campeonato de 2015\n",
        "if year == '2015':\n",
        "  tr = tr[:-20]\n",
        "    \n",
        "tr['round'] = tr['round'].astype(int)"
      ],
      "execution_count": 0,
      "outputs": []
    },
    {
      "cell_type": "markdown",
      "metadata": {
        "id": "ESWWPoIfYcgZ",
        "colab_type": "text"
      },
      "source": [
        "Adiciona o resultado da partida jogada em cada rodada.\n",
        "\n",
        "* 0 - derrota\n",
        "* 1 - empate\n",
        "* 3 - vitória\n",
        "\n"
      ]
    },
    {
      "cell_type": "code",
      "metadata": {
        "id": "p23Nq7TSU7ql",
        "colab_type": "code",
        "colab": {}
      },
      "source": [
        "def match_result(team, round):\n",
        "  match = matchs[((matchs['home_team'] == team) | \n",
        "                  (matchs['away_team'] == team)) & \n",
        "                 (matchs['round'] == round)]['score'].values[0]\n",
        "  \n",
        "  if len(match) < 5:\n",
        "    return 0\n",
        "  \n",
        "  match = match.split('x')\n",
        "  \n",
        "  is_home = matchs[(matchs['home_team'] == team) & (matchs['round'] == round)].shape[0]\n",
        "  \n",
        "  if is_home == 1:\n",
        "    if int(match[0]) > int(match[1]):\n",
        "      return 3\n",
        "    \n",
        "    elif int(match[0]) < int(match[1]):\n",
        "      return 0\n",
        "    \n",
        "    return 1\n",
        "    \n",
        "  if int(match[0]) > int(match[1]):\n",
        "    return 0\n",
        "\n",
        "  elif int(match[0]) < int(match[1]):\n",
        "    return 3\n",
        "\n",
        "  return 1"
      ],
      "execution_count": 0,
      "outputs": []
    },
    {
      "cell_type": "code",
      "metadata": {
        "id": "c9RRJmdyU7s4",
        "colab_type": "code",
        "colab": {}
      },
      "source": [
        "tr['result_match'] = tr.apply(lambda row: match_result(row['team'], row['round']), axis=1)"
      ],
      "execution_count": 0,
      "outputs": []
    },
    {
      "cell_type": "markdown",
      "metadata": {
        "id": "8z3npF0yY55Y",
        "colab_type": "text"
      },
      "source": [
        "Calcula a pontuação das equipes em cada uma das rodadas."
      ]
    },
    {
      "cell_type": "code",
      "metadata": {
        "id": "etWkzMolY6J4",
        "colab_type": "code",
        "colab": {}
      },
      "source": [
        "def cs_per_round(row, data):\n",
        "  team = row['team']\n",
        "  round = row['round']\n",
        "  \n",
        "  data = data[data['team'] == team]\n",
        "  data = data[data['round'] <= round]\n",
        "  \n",
        "  score = data['result_match'].sum()\n",
        "  \n",
        "  return score"
      ],
      "execution_count": 0,
      "outputs": []
    },
    {
      "cell_type": "code",
      "metadata": {
        "id": "8F2BxC37Y6M8",
        "colab_type": "code",
        "colab": {}
      },
      "source": [
        "tr['championship_score'] = tr.apply(lambda row: cs_per_round(row, tr), axis=1)"
      ],
      "execution_count": 0,
      "outputs": []
    },
    {
      "cell_type": "markdown",
      "metadata": {
        "id": "VaCFbwYfY7Ch",
        "colab_type": "text"
      },
      "source": [
        "Informação sobre o mando de campo."
      ]
    },
    {
      "cell_type": "code",
      "metadata": {
        "id": "0E5uaWq-Y6Pi",
        "colab_type": "code",
        "colab": {}
      },
      "source": [
        "def is_home_team(team, round):\n",
        "  is_home = matchs[(matchs['home_team'] == team) & \n",
        "                   (matchs['round'] == round)].shape[0]\n",
        "  return is_home"
      ],
      "execution_count": 0,
      "outputs": []
    },
    {
      "cell_type": "code",
      "metadata": {
        "id": "ZIX305EcY6Sg",
        "colab_type": "code",
        "colab": {}
      },
      "source": [
        "tr['home_team'] = tr.apply(lambda row: is_home_team(row['team'], row['round']), axis=1)"
      ],
      "execution_count": 0,
      "outputs": []
    },
    {
      "cell_type": "markdown",
      "metadata": {
        "id": "4wHxjMIKZaC_",
        "colab_type": "text"
      },
      "source": [
        "Conta a quantidade de gols sofridos pelo time até a rodada corrente, assim como a média de gols sofridos."
      ]
    },
    {
      "cell_type": "code",
      "metadata": {
        "id": "YDRSj1ieZaYW",
        "colab_type": "code",
        "colab": {}
      },
      "source": [
        "def goals_conceded(team, round): \n",
        "  \n",
        "  data = scouts[scouts['rodada'] == round]\n",
        "  \n",
        "  team = data[data['clube_id'] == team]\n",
        "  \n",
        "  return team['GS'].sum()\n",
        "\n",
        "\n",
        "def ag_conceded(team, round):\n",
        "  \n",
        "  goals = goals_conceded(team, round)\n",
        "  avg = goals/round\n",
        "  \n",
        "  return avg"
      ],
      "execution_count": 0,
      "outputs": []
    },
    {
      "cell_type": "code",
      "metadata": {
        "id": "-S4IhRLfZabb",
        "colab_type": "code",
        "colab": {}
      },
      "source": [
        "tr['goals_conceded'] = tr.apply(lambda row: goals_conceded(row['team'], row['round']), axis=1)\n",
        "tr['ag_conceded'] = tr.apply(lambda row: ag_conceded(row['team'], row['round']), axis=1)"
      ],
      "execution_count": 0,
      "outputs": []
    },
    {
      "cell_type": "markdown",
      "metadata": {
        "id": "ccztvQBlZaio",
        "colab_type": "text"
      },
      "source": [
        "De forma similar, calcula a quantidade de gols marcados e a média."
      ]
    },
    {
      "cell_type": "code",
      "metadata": {
        "id": "R7zqgLBEZapP",
        "colab_type": "code",
        "colab": {}
      },
      "source": [
        "def goals_scored(team, round):\n",
        "  \n",
        "  data = scouts[scouts['rodada'] == round]\n",
        "  \n",
        "  team = data[data['clube_id'] == team]\n",
        "  \n",
        "  return team['G'].sum()\n",
        "\n",
        "\n",
        "def ag_scored(team, round):\n",
        "  \n",
        "  goals = goals_scored(team, round)\n",
        "  avg = goals/round\n",
        "  \n",
        "  return avg"
      ],
      "execution_count": 0,
      "outputs": []
    },
    {
      "cell_type": "code",
      "metadata": {
        "id": "zje6EA_VZar6",
        "colab_type": "code",
        "colab": {}
      },
      "source": [
        "tr['goals_scored'] = tr.apply(lambda row: goals_scored(row['team'], row['round']), axis=1)\n",
        "tr['ag_scored'] = tr.apply(lambda row: ag_scored(row['team'], row['round']), axis=1) # goal average scored"
      ],
      "execution_count": 0,
      "outputs": []
    },
    {
      "cell_type": "markdown",
      "metadata": {
        "id": "WhO7rYRLZayU",
        "colab_type": "text"
      },
      "source": [
        "Adiciona a quantidade de partidas até a rodada corrente em que o time não sofreu gols."
      ]
    },
    {
      "cell_type": "code",
      "metadata": {
        "id": "8fpGsx3PZa6f",
        "colab_type": "code",
        "colab": {}
      },
      "source": [
        "def wcg\t(team, round): \n",
        "  \n",
        "  data = scouts[scouts['rodada'] == round]\n",
        "  \n",
        "  team = data[(data['clube_id'] == team) \n",
        "             & (data['posicao'] == 'gol')]\n",
        "  \n",
        "  return team['SG'].sum()"
      ],
      "execution_count": 0,
      "outputs": []
    },
    {
      "cell_type": "code",
      "metadata": {
        "id": "npoQIwHQZa9F",
        "colab_type": "code",
        "colab": {}
      },
      "source": [
        "# without conceding a goal\n",
        "tr['wcg'] = tr.apply(lambda row: wcg(row['team'], row['round']), axis=1) "
      ],
      "execution_count": 0,
      "outputs": []
    },
    {
      "cell_type": "markdown",
      "metadata": {
        "id": "cFiuT_68bnsF",
        "colab_type": "text"
      },
      "source": [
        "Para facilitar a visualização, acrescenta o nome da equipe."
      ]
    },
    {
      "cell_type": "code",
      "metadata": {
        "id": "eTfA2--obn22",
        "colab_type": "code",
        "colab": {}
      },
      "source": [
        "def add_column_name(id):\n",
        "  name = team_dict[team_dict['id'] == id]['nome.cartola'].values[0]\n",
        "  return name"
      ],
      "execution_count": 0,
      "outputs": []
    },
    {
      "cell_type": "code",
      "metadata": {
        "id": "YuPcUbJXbn5g",
        "colab_type": "code",
        "colab": {}
      },
      "source": [
        "tr['club_name'] = tr.apply(lambda row: add_column_name(row['team']), axis=1)\n"
      ],
      "execution_count": 0,
      "outputs": []
    },
    {
      "cell_type": "markdown",
      "metadata": {
        "id": "2Bb09m76eVei",
        "colab_type": "text"
      },
      "source": [
        "Os dados relacionados à quantidade de gols sofridos, marcados e o número de partidas sem sofrer gols são calculados levando em consideração os jogadores que estão na equipe na rodada. Caso o jogador marque 2 gols na 1ª rodada, e seja transferido na 2ª para outro time, esses gols não serão levado em consideração a partir dessa rodada.\n",
        "\n",
        "### Tabela final do campeonato "
      ]
    },
    {
      "cell_type": "code",
      "metadata": {
        "id": "PwRY7RwYdUJB",
        "colab_type": "code",
        "colab": {
          "base_uri": "https://localhost:8080/",
          "height": 669
        },
        "outputId": "5b7fcec4-54a6-46aa-d93b-872de8bce294"
      },
      "source": [
        "tr = tr[['round', 'club_name', 'team', 'championship_score', \n",
        "        'result_match', 'home_team','goals_conceded', 'ag_conceded',\n",
        "        'goals_scored', 'ag_scored', 'wcg']]\n",
        "\n",
        "final = tr.tail(20)\n",
        "final.sort_values(by=['championship_score'], ascending=False)"
      ],
      "execution_count": 41,
      "outputs": [
        {
          "output_type": "execute_result",
          "data": {
            "text/html": [
              "<div>\n",
              "<style scoped>\n",
              "    .dataframe tbody tr th:only-of-type {\n",
              "        vertical-align: middle;\n",
              "    }\n",
              "\n",
              "    .dataframe tbody tr th {\n",
              "        vertical-align: top;\n",
              "    }\n",
              "\n",
              "    .dataframe thead th {\n",
              "        text-align: right;\n",
              "    }\n",
              "</style>\n",
              "<table border=\"1\" class=\"dataframe\">\n",
              "  <thead>\n",
              "    <tr style=\"text-align: right;\">\n",
              "      <th></th>\n",
              "      <th>round</th>\n",
              "      <th>club_name</th>\n",
              "      <th>team</th>\n",
              "      <th>championship_score</th>\n",
              "      <th>result_match</th>\n",
              "      <th>home_team</th>\n",
              "      <th>goals_conceded</th>\n",
              "      <th>ag_conceded</th>\n",
              "      <th>goals_scored</th>\n",
              "      <th>ag_scored</th>\n",
              "      <th>wcg</th>\n",
              "    </tr>\n",
              "  </thead>\n",
              "  <tbody>\n",
              "    <tr>\n",
              "      <th>15</th>\n",
              "      <td>38</td>\n",
              "      <td>Cruzeiro</td>\n",
              "      <td>283.0</td>\n",
              "      <td>80</td>\n",
              "      <td>3</td>\n",
              "      <td>1</td>\n",
              "      <td>39</td>\n",
              "      <td>1.026316</td>\n",
              "      <td>68</td>\n",
              "      <td>1.789474</td>\n",
              "      <td>11</td>\n",
              "    </tr>\n",
              "    <tr>\n",
              "      <th>2</th>\n",
              "      <td>38</td>\n",
              "      <td>São Paulo</td>\n",
              "      <td>276.0</td>\n",
              "      <td>70</td>\n",
              "      <td>0</td>\n",
              "      <td>0</td>\n",
              "      <td>40</td>\n",
              "      <td>1.052632</td>\n",
              "      <td>56</td>\n",
              "      <td>1.473684</td>\n",
              "      <td>13</td>\n",
              "    </tr>\n",
              "    <tr>\n",
              "      <th>7</th>\n",
              "      <td>38</td>\n",
              "      <td>Internacional</td>\n",
              "      <td>285.0</td>\n",
              "      <td>69</td>\n",
              "      <td>3</td>\n",
              "      <td>0</td>\n",
              "      <td>40</td>\n",
              "      <td>1.052632</td>\n",
              "      <td>51</td>\n",
              "      <td>1.342105</td>\n",
              "      <td>16</td>\n",
              "    </tr>\n",
              "    <tr>\n",
              "      <th>12</th>\n",
              "      <td>38</td>\n",
              "      <td>Corinthians</td>\n",
              "      <td>264.0</td>\n",
              "      <td>69</td>\n",
              "      <td>3</td>\n",
              "      <td>1</td>\n",
              "      <td>31</td>\n",
              "      <td>0.815789</td>\n",
              "      <td>44</td>\n",
              "      <td>1.157895</td>\n",
              "      <td>15</td>\n",
              "    </tr>\n",
              "    <tr>\n",
              "      <th>5</th>\n",
              "      <td>38</td>\n",
              "      <td>Atlético-MG</td>\n",
              "      <td>282.0</td>\n",
              "      <td>62</td>\n",
              "      <td>1</td>\n",
              "      <td>0</td>\n",
              "      <td>39</td>\n",
              "      <td>1.026316</td>\n",
              "      <td>45</td>\n",
              "      <td>1.184211</td>\n",
              "      <td>14</td>\n",
              "    </tr>\n",
              "    <tr>\n",
              "      <th>17</th>\n",
              "      <td>38</td>\n",
              "      <td>Grêmio</td>\n",
              "      <td>284.0</td>\n",
              "      <td>61</td>\n",
              "      <td>1</td>\n",
              "      <td>1</td>\n",
              "      <td>23</td>\n",
              "      <td>0.605263</td>\n",
              "      <td>34</td>\n",
              "      <td>0.894737</td>\n",
              "      <td>21</td>\n",
              "    </tr>\n",
              "    <tr>\n",
              "      <th>1</th>\n",
              "      <td>38</td>\n",
              "      <td>Fluminense</td>\n",
              "      <td>266.0</td>\n",
              "      <td>61</td>\n",
              "      <td>0</td>\n",
              "      <td>0</td>\n",
              "      <td>42</td>\n",
              "      <td>1.105263</td>\n",
              "      <td>57</td>\n",
              "      <td>1.500000</td>\n",
              "      <td>14</td>\n",
              "    </tr>\n",
              "    <tr>\n",
              "      <th>4</th>\n",
              "      <td>38</td>\n",
              "      <td>Atlético-PR</td>\n",
              "      <td>293.0</td>\n",
              "      <td>54</td>\n",
              "      <td>1</td>\n",
              "      <td>0</td>\n",
              "      <td>42</td>\n",
              "      <td>1.105263</td>\n",
              "      <td>42</td>\n",
              "      <td>1.105263</td>\n",
              "      <td>12</td>\n",
              "    </tr>\n",
              "    <tr>\n",
              "      <th>3</th>\n",
              "      <td>38</td>\n",
              "      <td>Santos</td>\n",
              "      <td>277.0</td>\n",
              "      <td>53</td>\n",
              "      <td>3</td>\n",
              "      <td>0</td>\n",
              "      <td>35</td>\n",
              "      <td>0.921053</td>\n",
              "      <td>41</td>\n",
              "      <td>1.078947</td>\n",
              "      <td>15</td>\n",
              "    </tr>\n",
              "    <tr>\n",
              "      <th>0</th>\n",
              "      <td>38</td>\n",
              "      <td>Flamengo</td>\n",
              "      <td>262.0</td>\n",
              "      <td>52</td>\n",
              "      <td>1</td>\n",
              "      <td>0</td>\n",
              "      <td>47</td>\n",
              "      <td>1.236842</td>\n",
              "      <td>46</td>\n",
              "      <td>1.210526</td>\n",
              "      <td>12</td>\n",
              "    </tr>\n",
              "    <tr>\n",
              "      <th>11</th>\n",
              "      <td>38</td>\n",
              "      <td>Sport</td>\n",
              "      <td>292.0</td>\n",
              "      <td>52</td>\n",
              "      <td>3</td>\n",
              "      <td>1</td>\n",
              "      <td>46</td>\n",
              "      <td>1.210526</td>\n",
              "      <td>34</td>\n",
              "      <td>0.894737</td>\n",
              "      <td>13</td>\n",
              "    </tr>\n",
              "    <tr>\n",
              "      <th>14</th>\n",
              "      <td>38</td>\n",
              "      <td>Coritiba</td>\n",
              "      <td>294.0</td>\n",
              "      <td>47</td>\n",
              "      <td>3</td>\n",
              "      <td>1</td>\n",
              "      <td>45</td>\n",
              "      <td>1.184211</td>\n",
              "      <td>42</td>\n",
              "      <td>1.105263</td>\n",
              "      <td>13</td>\n",
              "    </tr>\n",
              "    <tr>\n",
              "      <th>18</th>\n",
              "      <td>38</td>\n",
              "      <td>Figueirense</td>\n",
              "      <td>316.0</td>\n",
              "      <td>47</td>\n",
              "      <td>0</td>\n",
              "      <td>1</td>\n",
              "      <td>47</td>\n",
              "      <td>1.236842</td>\n",
              "      <td>37</td>\n",
              "      <td>0.973684</td>\n",
              "      <td>11</td>\n",
              "    </tr>\n",
              "    <tr>\n",
              "      <th>19</th>\n",
              "      <td>38</td>\n",
              "      <td>Goiás</td>\n",
              "      <td>290.0</td>\n",
              "      <td>47</td>\n",
              "      <td>3</td>\n",
              "      <td>1</td>\n",
              "      <td>40</td>\n",
              "      <td>1.052632</td>\n",
              "      <td>36</td>\n",
              "      <td>0.947368</td>\n",
              "      <td>15</td>\n",
              "    </tr>\n",
              "    <tr>\n",
              "      <th>9</th>\n",
              "      <td>38</td>\n",
              "      <td>Chapecoense</td>\n",
              "      <td>315.0</td>\n",
              "      <td>43</td>\n",
              "      <td>0</td>\n",
              "      <td>0</td>\n",
              "      <td>39</td>\n",
              "      <td>1.026316</td>\n",
              "      <td>34</td>\n",
              "      <td>0.894737</td>\n",
              "      <td>12</td>\n",
              "    </tr>\n",
              "    <tr>\n",
              "      <th>13</th>\n",
              "      <td>38</td>\n",
              "      <td>Palmeiras</td>\n",
              "      <td>275.0</td>\n",
              "      <td>40</td>\n",
              "      <td>1</td>\n",
              "      <td>1</td>\n",
              "      <td>57</td>\n",
              "      <td>1.500000</td>\n",
              "      <td>28</td>\n",
              "      <td>0.736842</td>\n",
              "      <td>9</td>\n",
              "    </tr>\n",
              "    <tr>\n",
              "      <th>16</th>\n",
              "      <td>38</td>\n",
              "      <td>Vitória</td>\n",
              "      <td>287.0</td>\n",
              "      <td>38</td>\n",
              "      <td>0</td>\n",
              "      <td>1</td>\n",
              "      <td>54</td>\n",
              "      <td>1.421053</td>\n",
              "      <td>28</td>\n",
              "      <td>0.736842</td>\n",
              "      <td>5</td>\n",
              "    </tr>\n",
              "    <tr>\n",
              "      <th>6</th>\n",
              "      <td>38</td>\n",
              "      <td>Bahia</td>\n",
              "      <td>265.0</td>\n",
              "      <td>37</td>\n",
              "      <td>0</td>\n",
              "      <td>0</td>\n",
              "      <td>42</td>\n",
              "      <td>1.105263</td>\n",
              "      <td>28</td>\n",
              "      <td>0.736842</td>\n",
              "      <td>10</td>\n",
              "    </tr>\n",
              "    <tr>\n",
              "      <th>10</th>\n",
              "      <td>38</td>\n",
              "      <td>Botafogo</td>\n",
              "      <td>263.0</td>\n",
              "      <td>34</td>\n",
              "      <td>1</td>\n",
              "      <td>1</td>\n",
              "      <td>48</td>\n",
              "      <td>1.263158</td>\n",
              "      <td>21</td>\n",
              "      <td>0.552632</td>\n",
              "      <td>9</td>\n",
              "    </tr>\n",
              "    <tr>\n",
              "      <th>8</th>\n",
              "      <td>38</td>\n",
              "      <td>Criciuma</td>\n",
              "      <td>206.0</td>\n",
              "      <td>32</td>\n",
              "      <td>0</td>\n",
              "      <td>0</td>\n",
              "      <td>56</td>\n",
              "      <td>1.473684</td>\n",
              "      <td>28</td>\n",
              "      <td>0.736842</td>\n",
              "      <td>11</td>\n",
              "    </tr>\n",
              "  </tbody>\n",
              "</table>\n",
              "</div>"
            ],
            "text/plain": [
              "    round      club_name   team  ...  goals_scored  ag_scored  wcg\n",
              "15     38       Cruzeiro  283.0  ...            68   1.789474   11\n",
              "2      38      São Paulo  276.0  ...            56   1.473684   13\n",
              "7      38  Internacional  285.0  ...            51   1.342105   16\n",
              "12     38    Corinthians  264.0  ...            44   1.157895   15\n",
              "5      38    Atlético-MG  282.0  ...            45   1.184211   14\n",
              "17     38         Grêmio  284.0  ...            34   0.894737   21\n",
              "1      38     Fluminense  266.0  ...            57   1.500000   14\n",
              "4      38    Atlético-PR  293.0  ...            42   1.105263   12\n",
              "3      38         Santos  277.0  ...            41   1.078947   15\n",
              "0      38       Flamengo  262.0  ...            46   1.210526   12\n",
              "11     38          Sport  292.0  ...            34   0.894737   13\n",
              "14     38       Coritiba  294.0  ...            42   1.105263   13\n",
              "18     38    Figueirense  316.0  ...            37   0.973684   11\n",
              "19     38          Goiás  290.0  ...            36   0.947368   15\n",
              "9      38    Chapecoense  315.0  ...            34   0.894737   12\n",
              "13     38      Palmeiras  275.0  ...            28   0.736842    9\n",
              "16     38        Vitória  287.0  ...            28   0.736842    5\n",
              "6      38          Bahia  265.0  ...            28   0.736842   10\n",
              "10     38       Botafogo  263.0  ...            21   0.552632    9\n",
              "8      38       Criciuma  206.0  ...            28   0.736842   11\n",
              "\n",
              "[20 rows x 11 columns]"
            ]
          },
          "metadata": {
            "tags": []
          },
          "execution_count": 41
        }
      ]
    }
  ]
}